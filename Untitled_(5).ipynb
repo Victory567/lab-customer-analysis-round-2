{
  "cells": [
    {
      "cell_type": "markdown",
      "metadata": {
        "id": "view-in-github",
        "colab_type": "text"
      },
      "source": [
        "<a href=\"https://colab.research.google.com/github/Victory567/lab-customer-analysis-round-2/blob/master/Untitled_(5).ipynb\" target=\"_parent\"><img src=\"https://colab.research.google.com/assets/colab-badge.svg\" alt=\"Open In Colab\"/></a>"
      ]
    },
    {
      "cell_type": "code",
      "execution_count": null,
      "id": "72a000ff",
      "metadata": {
        "id": "72a000ff"
      },
      "outputs": [],
      "source": [
        "import pandas as pd\n",
        "import numpy as np\n",
        "import matplotlib.pyplot as plt\n",
        "import seaborn as sns\n",
        "import scipy.stats as stats\n"
      ]
    },
    {
      "cell_type": "code",
      "execution_count": null,
      "id": "2a1ca950",
      "metadata": {
        "id": "2a1ca950"
      },
      "outputs": [],
      "source": [
        "df= pd.read_csv('marketing_customer_analysis.csv')"
      ]
    },
    {
      "cell_type": "code",
      "execution_count": null,
      "id": "a7d65493",
      "metadata": {
        "id": "a7d65493",
        "outputId": "ee3b7cb7-6746-4fa2-9b1b-4a49cc56b221"
      },
      "outputs": [
        {
          "data": {
            "text/plain": [
              "(10910, 26)"
            ]
          },
          "execution_count": 6,
          "metadata": {},
          "output_type": "execute_result"
        }
      ],
      "source": [
        "df.shape"
      ]
    },
    {
      "cell_type": "code",
      "execution_count": null,
      "id": "26a970cd",
      "metadata": {
        "id": "26a970cd",
        "outputId": "0027df12-c00c-4110-a3e5-853c4a70362c"
      },
      "outputs": [
        {
          "data": {
            "text/plain": [
              "<bound method NDFrame.describe of        Unnamed: 0 Customer       State  Customer Lifetime Value Response  \\\n",
              "0               0  DK49336     Arizona              4809.216960       No   \n",
              "1               1  KX64629  California              2228.525238       No   \n",
              "2               2  LZ68649  Washington             14947.917300       No   \n",
              "3               3  XL78013      Oregon             22332.439460      Yes   \n",
              "4               4  QA50777      Oregon              9025.067525       No   \n",
              "...           ...      ...         ...                      ...      ...   \n",
              "10905       10905  FE99816      Nevada             15563.369440       No   \n",
              "10906       10906  KX53892      Oregon              5259.444853       No   \n",
              "10907       10907  TL39050     Arizona             23893.304100       No   \n",
              "10908       10908  WA60547  California             11971.977650       No   \n",
              "10909       10909  IV32877         NaN              6857.519928      NaN   \n",
              "\n",
              "       Coverage Education Effective To Date EmploymentStatus Gender  ...  \\\n",
              "0         Basic   College           2/18/11         Employed      M  ...   \n",
              "1         Basic   College           1/18/11       Unemployed      F  ...   \n",
              "2         Basic  Bachelor           2/10/11         Employed      M  ...   \n",
              "3      Extended   College           1/11/11         Employed      M  ...   \n",
              "4       Premium  Bachelor           1/17/11    Medical Leave      F  ...   \n",
              "...         ...       ...               ...              ...    ...  ...   \n",
              "10905   Premium  Bachelor           1/19/11       Unemployed      F  ...   \n",
              "10906     Basic   College            1/6/11         Employed      F  ...   \n",
              "10907  Extended  Bachelor            2/6/11         Employed      F  ...   \n",
              "10908   Premium   College           2/13/11         Employed      F  ...   \n",
              "10909     Basic  Bachelor            1/8/11       Unemployed      M  ...   \n",
              "\n",
              "       Number of Open Complaints Number of Policies     Policy Type  \\\n",
              "0                            0.0                  9  Corporate Auto   \n",
              "1                            0.0                  1   Personal Auto   \n",
              "2                            0.0                  2   Personal Auto   \n",
              "3                            0.0                  2  Corporate Auto   \n",
              "4                            NaN                  7   Personal Auto   \n",
              "...                          ...                ...             ...   \n",
              "10905                        NaN                  7   Personal Auto   \n",
              "10906                        0.0                  6   Personal Auto   \n",
              "10907                        0.0                  2  Corporate Auto   \n",
              "10908                        4.0                  6   Personal Auto   \n",
              "10909                        0.0                  3   Personal Auto   \n",
              "\n",
              "             Policy  Renew Offer Type  Sales Channel  Total Claim Amount  \\\n",
              "0      Corporate L3            Offer3          Agent          292.800000   \n",
              "1       Personal L3            Offer4    Call Center          744.924331   \n",
              "2       Personal L3            Offer3    Call Center          480.000000   \n",
              "3      Corporate L3            Offer2         Branch          484.013411   \n",
              "4       Personal L2            Offer1         Branch          707.925645   \n",
              "...             ...               ...            ...                 ...   \n",
              "10905   Personal L1            Offer3            Web         1214.400000   \n",
              "10906   Personal L3            Offer2         Branch          273.018929   \n",
              "10907  Corporate L3            Offer1            Web          381.306996   \n",
              "10908   Personal L1            Offer1         Branch          618.288849   \n",
              "10909   Personal L1            Offer4            Web         1021.719397   \n",
              "\n",
              "       Vehicle Class Vehicle Size Vehicle Type  \n",
              "0      Four-Door Car      Medsize          NaN  \n",
              "1      Four-Door Car      Medsize          NaN  \n",
              "2                SUV      Medsize            A  \n",
              "3      Four-Door Car      Medsize            A  \n",
              "4      Four-Door Car      Medsize          NaN  \n",
              "...              ...          ...          ...  \n",
              "10905     Luxury Car      Medsize            A  \n",
              "10906  Four-Door Car      Medsize            A  \n",
              "10907     Luxury SUV      Medsize          NaN  \n",
              "10908            SUV      Medsize            A  \n",
              "10909            SUV      Medsize          NaN  \n",
              "\n",
              "[10910 rows x 26 columns]>"
            ]
          },
          "execution_count": 7,
          "metadata": {},
          "output_type": "execute_result"
        }
      ],
      "source": [
        "df.describe"
      ]
    },
    {
      "cell_type": "code",
      "execution_count": null,
      "id": "7b0d308a",
      "metadata": {
        "id": "7b0d308a",
        "outputId": "87c48b62-4707-4ad2-b3b1-c14fdf209325"
      },
      "outputs": [
        {
          "name": "stdout",
          "output_type": "stream",
          "text": [
            "Unnamed: 0\n",
            "Customer\n",
            "State\n",
            "Customer Lifetime Value\n",
            "Response\n",
            "Coverage\n",
            "Education\n",
            "Effective To Date\n",
            "EmploymentStatus\n",
            "Gender\n",
            "Income\n",
            "Location Code\n",
            "Marital Status\n",
            "Monthly Premium Auto\n",
            "Months Since Last Claim\n",
            "Months Since Policy Inception\n",
            "Number of Open Complaints\n",
            "Number of Policies\n",
            "Policy Type\n",
            "Policy\n",
            "Renew Offer Type\n",
            "Sales Channel\n",
            "Total Claim Amount\n",
            "Vehicle Class\n",
            "Vehicle Size\n",
            "Vehicle Type\n"
          ]
        }
      ],
      "source": [
        "\n",
        "for col in data.columns:\n",
        "\tprint(col)\n"
      ]
    },
    {
      "cell_type": "code",
      "execution_count": null,
      "id": "cddf8786",
      "metadata": {
        "id": "cddf8786",
        "outputId": "296d6ada-b328-458e-ae7e-021141af6822"
      },
      "outputs": [
        {
          "data": {
            "text/plain": [
              "True"
            ]
          },
          "execution_count": 30,
          "metadata": {},
          "output_type": "execute_result"
        }
      ],
      "source": [
        " import math\n",
        " x = float('nan')\n",
        " math.isnan(x)"
      ]
    },
    {
      "cell_type": "code",
      "execution_count": null,
      "id": "ca1b3be1",
      "metadata": {
        "id": "ca1b3be1"
      },
      "outputs": [],
      "source": [
        "df=df.dropna()\n"
      ]
    },
    {
      "cell_type": "code",
      "execution_count": null,
      "id": "835ab82a",
      "metadata": {
        "id": "835ab82a"
      },
      "outputs": [],
      "source": []
    }
  ],
  "metadata": {
    "kernelspec": {
      "display_name": "Python 3 (ipykernel)",
      "language": "python",
      "name": "python3"
    },
    "language_info": {
      "codemirror_mode": {
        "name": "ipython",
        "version": 3
      },
      "file_extension": ".py",
      "mimetype": "text/x-python",
      "name": "python",
      "nbconvert_exporter": "python",
      "pygments_lexer": "ipython3",
      "version": "3.9.12"
    },
    "colab": {
      "provenance": [],
      "include_colab_link": true
    }
  },
  "nbformat": 4,
  "nbformat_minor": 5
}