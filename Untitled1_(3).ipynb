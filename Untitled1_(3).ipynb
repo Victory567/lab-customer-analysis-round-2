{
  "cells": [
    {
      "cell_type": "markdown",
      "metadata": {
        "id": "view-in-github",
        "colab_type": "text"
      },
      "source": [
        "<a href=\"https://colab.research.google.com/github/Victory567/lab-customer-analysis-round-2/blob/master/Untitled1_(3).ipynb\" target=\"_parent\"><img src=\"https://colab.research.google.com/assets/colab-badge.svg\" alt=\"Open In Colab\"/></a>"
      ]
    },
    {
      "cell_type": "code",
      "execution_count": null,
      "id": "fcb3b0a4",
      "metadata": {
        "id": "fcb3b0a4"
      },
      "outputs": [],
      "source": [
        "import pandas as pd\n",
        "import numpy as np\n",
        "import matplotlib.pyplot as plt\n",
        "import seaborn as sns\n",
        "import scipy.stats as stats\n"
      ]
    },
    {
      "cell_type": "code",
      "execution_count": null,
      "id": "388c03a6",
      "metadata": {
        "id": "388c03a6"
      },
      "outputs": [],
      "source": [
        "df= pd.read_csv('marketing_customer_analysis.csv')"
      ]
    },
    {
      "cell_type": "code",
      "execution_count": null,
      "id": "55a5a2d8",
      "metadata": {
        "id": "55a5a2d8",
        "outputId": "d2929c36-effa-429c-de4b-0a497e3632bb"
      },
      "outputs": [
        {
          "data": {
            "text/plain": [
              "(10910, 26)"
            ]
          },
          "execution_count": 3,
          "metadata": {},
          "output_type": "execute_result"
        }
      ],
      "source": [
        "df.shape"
      ]
    },
    {
      "cell_type": "code",
      "execution_count": null,
      "id": "91b83375",
      "metadata": {
        "id": "91b83375"
      },
      "outputs": [],
      "source": [
        "# Standardize header names\n"
      ]
    },
    {
      "cell_type": "code",
      "execution_count": null,
      "id": "f1173be5",
      "metadata": {
        "id": "f1173be5",
        "outputId": "bc1f9c40-1336-4dfe-a41c-585e18ea93f2"
      },
      "outputs": [
        {
          "data": {
            "text/plain": [
              "<bound method NDFrame.describe of        Unnamed: 0 Customer       State  Customer Lifetime Value Response  \\\n",
              "0               0  DK49336     Arizona              4809.216960       No   \n",
              "1               1  KX64629  California              2228.525238       No   \n",
              "2               2  LZ68649  Washington             14947.917300       No   \n",
              "3               3  XL78013      Oregon             22332.439460      Yes   \n",
              "4               4  QA50777      Oregon              9025.067525       No   \n",
              "...           ...      ...         ...                      ...      ...   \n",
              "10905       10905  FE99816      Nevada             15563.369440       No   \n",
              "10906       10906  KX53892      Oregon              5259.444853       No   \n",
              "10907       10907  TL39050     Arizona             23893.304100       No   \n",
              "10908       10908  WA60547  California             11971.977650       No   \n",
              "10909       10909  IV32877         NaN              6857.519928      NaN   \n",
              "\n",
              "       Coverage Education Effective To Date EmploymentStatus Gender  ...  \\\n",
              "0         Basic   College           2/18/11         Employed      M  ...   \n",
              "1         Basic   College           1/18/11       Unemployed      F  ...   \n",
              "2         Basic  Bachelor           2/10/11         Employed      M  ...   \n",
              "3      Extended   College           1/11/11         Employed      M  ...   \n",
              "4       Premium  Bachelor           1/17/11    Medical Leave      F  ...   \n",
              "...         ...       ...               ...              ...    ...  ...   \n",
              "10905   Premium  Bachelor           1/19/11       Unemployed      F  ...   \n",
              "10906     Basic   College            1/6/11         Employed      F  ...   \n",
              "10907  Extended  Bachelor            2/6/11         Employed      F  ...   \n",
              "10908   Premium   College           2/13/11         Employed      F  ...   \n",
              "10909     Basic  Bachelor            1/8/11       Unemployed      M  ...   \n",
              "\n",
              "       Number of Open Complaints Number of Policies     Policy Type  \\\n",
              "0                            0.0                  9  Corporate Auto   \n",
              "1                            0.0                  1   Personal Auto   \n",
              "2                            0.0                  2   Personal Auto   \n",
              "3                            0.0                  2  Corporate Auto   \n",
              "4                            NaN                  7   Personal Auto   \n",
              "...                          ...                ...             ...   \n",
              "10905                        NaN                  7   Personal Auto   \n",
              "10906                        0.0                  6   Personal Auto   \n",
              "10907                        0.0                  2  Corporate Auto   \n",
              "10908                        4.0                  6   Personal Auto   \n",
              "10909                        0.0                  3   Personal Auto   \n",
              "\n",
              "             Policy  Renew Offer Type  Sales Channel  Total Claim Amount  \\\n",
              "0      Corporate L3            Offer3          Agent          292.800000   \n",
              "1       Personal L3            Offer4    Call Center          744.924331   \n",
              "2       Personal L3            Offer3    Call Center          480.000000   \n",
              "3      Corporate L3            Offer2         Branch          484.013411   \n",
              "4       Personal L2            Offer1         Branch          707.925645   \n",
              "...             ...               ...            ...                 ...   \n",
              "10905   Personal L1            Offer3            Web         1214.400000   \n",
              "10906   Personal L3            Offer2         Branch          273.018929   \n",
              "10907  Corporate L3            Offer1            Web          381.306996   \n",
              "10908   Personal L1            Offer1         Branch          618.288849   \n",
              "10909   Personal L1            Offer4            Web         1021.719397   \n",
              "\n",
              "       Vehicle Class Vehicle Size Vehicle Type  \n",
              "0      Four-Door Car      Medsize          NaN  \n",
              "1      Four-Door Car      Medsize          NaN  \n",
              "2                SUV      Medsize            A  \n",
              "3      Four-Door Car      Medsize            A  \n",
              "4      Four-Door Car      Medsize          NaN  \n",
              "...              ...          ...          ...  \n",
              "10905     Luxury Car      Medsize            A  \n",
              "10906  Four-Door Car      Medsize            A  \n",
              "10907     Luxury SUV      Medsize          NaN  \n",
              "10908            SUV      Medsize            A  \n",
              "10909            SUV      Medsize          NaN  \n",
              "\n",
              "[10910 rows x 26 columns]>"
            ]
          },
          "execution_count": 5,
          "metadata": {},
          "output_type": "execute_result"
        }
      ],
      "source": [
        "df"
      ]
    },
    {
      "cell_type": "code",
      "execution_count": null,
      "id": "746e37f9",
      "metadata": {
        "id": "746e37f9"
      },
      "outputs": [],
      "source": [
        "#Standardizing  header names and then selecting  numerical columns\n",
        "#To identify which columns are numerical in a pandas DataFrame, \n",
        "#you can use the select_dtypes() method with the include parameter set to 'number'. \n",
        "#This will select all columns with numerical data types (i.e. integer, float)."
      ]
    },
    {
      "cell_type": "code",
      "execution_count": null,
      "id": "71916bbe",
      "metadata": {
        "id": "71916bbe",
        "outputId": "686452d1-c8c0-46b5-868f-c349c56fcaf9"
      },
      "outputs": [
        {
          "name": "stdout",
          "output_type": "stream",
          "text": [
            "['unnamed: 0', 'customer lifetime value', 'income', 'monthly premium auto', 'months_since_last_claim', 'months_since_policy_inception', 'number_of_open_complaints', 'number_of_policies', 'total_claim_amount']\n"
          ]
        }
      ],
      "source": [
        "\n",
        "num_cols = df.select_dtypes(include='number').columns.tolist()\n",
        "\n",
        "print(num_cols)"
      ]
    },
    {
      "cell_type": "code",
      "execution_count": null,
      "id": "7d7fc538",
      "metadata": {
        "id": "7d7fc538"
      },
      "outputs": [],
      "source": [
        "#Just the same as the code above we are just swapping number for object \n",
        "#To identify which columns are categorical in a pandas DataFrame, \n",
        "#you can use the select_dtypes() method with the include parameter set to 'object'. \n",
        "#This will select all columns with object data types, which typically represent categorical variables.\n"
      ]
    },
    {
      "cell_type": "code",
      "execution_count": null,
      "id": "03a12ca7",
      "metadata": {
        "id": "03a12ca7",
        "outputId": "25db854e-b1c4-474c-cd33-98605cc296e1"
      },
      "outputs": [
        {
          "name": "stdout",
          "output_type": "stream",
          "text": [
            "['customer', 'state', 'response', 'coverage', 'education', 'effective to date', 'employmentstatus', 'gender', 'location code', 'marital_status', 'policy type', 'policy', 'renew offer type', 'sales channel', 'vehicle_class', 'vehicle_size', 'vehicle type']\n"
          ]
        }
      ],
      "source": [
        "cat_cols = df.select_dtypes(include='object').columns.tolist()\n",
        "\n",
        "print(cat_cols)"
      ]
    },
    {
      "cell_type": "code",
      "execution_count": null,
      "id": "d5c3bca5",
      "metadata": {
        "id": "d5c3bca5"
      },
      "outputs": [],
      "source": [
        "# Check for missing values\n",
        "# I am using the isnull() method, which returns a boolean DataFrame with True values \n",
        "#where the original DataFrame contains missing values."
      ]
    },
    {
      "cell_type": "code",
      "execution_count": null,
      "id": "70d3b933",
      "metadata": {
        "id": "70d3b933",
        "outputId": "af97c54b-167b-45c6-9c78-f443b3d1eb7c"
      },
      "outputs": [
        {
          "name": "stdout",
          "output_type": "stream",
          "text": [
            "unnamed: 0                          0\n",
            "customer                            0\n",
            "state                             631\n",
            "customer lifetime value             0\n",
            "response                          631\n",
            "coverage                            0\n",
            "education                           0\n",
            "effective to date                   0\n",
            "employmentstatus                    0\n",
            "gender                              0\n",
            "income                              0\n",
            "location code                       0\n",
            "marital_status                      0\n",
            "monthly premium auto                0\n",
            "months_since_last_claim           633\n",
            "months_since_policy_inception       0\n",
            "number_of_open_complaints         633\n",
            "number_of_policies                  0\n",
            "policy type                         0\n",
            "policy                              0\n",
            "renew offer type                    0\n",
            "sales channel                       0\n",
            "total_claim_amount                  0\n",
            "vehicle_class                     622\n",
            "vehicle_size                      622\n",
            "vehicle type                     5482\n",
            "dtype: int64\n"
          ]
        }
      ],
      "source": [
        "missing_values = df.isnull().sum()\n",
        "print(missing_values)\n"
      ]
    },
    {
      "cell_type": "code",
      "execution_count": null,
      "id": "37f192b3",
      "metadata": {
        "id": "37f192b3"
      },
      "outputs": [],
      "source": [
        "#First i Converted the \"date\" column to a Pandas datetime object\n",
        "#Then i extracted the month from the \"date\" column and stored it in a new \"month\" column\n",
        "#Next was filtering the data to show only the information for the first quarter (January to March)\n",
        "#Then i printed the filtered data\n"
      ]
    },
    {
      "cell_type": "code",
      "execution_count": null,
      "id": "2146c018",
      "metadata": {
        "id": "2146c018",
        "outputId": "15189c54-6334-46b7-8167-e8ba845130ee"
      },
      "outputs": [
        {
          "name": "stdout",
          "output_type": "stream",
          "text": [
            "       Unnamed: 0 Customer       State  Customer Lifetime Value Response  \\\n",
            "0               0  DK49336     Arizona              4809.216960       No   \n",
            "1               1  KX64629  California              2228.525238       No   \n",
            "2               2  LZ68649  Washington             14947.917300       No   \n",
            "3               3  XL78013      Oregon             22332.439460      Yes   \n",
            "4               4  QA50777      Oregon              9025.067525       No   \n",
            "...           ...      ...         ...                      ...      ...   \n",
            "10905       10905  FE99816      Nevada             15563.369440       No   \n",
            "10906       10906  KX53892      Oregon              5259.444853       No   \n",
            "10907       10907  TL39050     Arizona             23893.304100       No   \n",
            "10908       10908  WA60547  California             11971.977650       No   \n",
            "10909       10909  IV32877         NaN              6857.519928      NaN   \n",
            "\n",
            "       Coverage Education Effective To Date EmploymentStatus Gender  ...  \\\n",
            "0         Basic   College           2/18/11         Employed      M  ...   \n",
            "1         Basic   College           1/18/11       Unemployed      F  ...   \n",
            "2         Basic  Bachelor           2/10/11         Employed      M  ...   \n",
            "3      Extended   College           1/11/11         Employed      M  ...   \n",
            "4       Premium  Bachelor           1/17/11    Medical Leave      F  ...   \n",
            "...         ...       ...               ...              ...    ...  ...   \n",
            "10905   Premium  Bachelor           1/19/11       Unemployed      F  ...   \n",
            "10906     Basic   College            1/6/11         Employed      F  ...   \n",
            "10907  Extended  Bachelor            2/6/11         Employed      F  ...   \n",
            "10908   Premium   College           2/13/11         Employed      F  ...   \n",
            "10909     Basic  Bachelor            1/8/11       Unemployed      M  ...   \n",
            "\n",
            "          Policy Type        Policy Renew Offer Type  Sales Channel  \\\n",
            "0      Corporate Auto  Corporate L3           Offer3          Agent   \n",
            "1       Personal Auto   Personal L3           Offer4    Call Center   \n",
            "2       Personal Auto   Personal L3           Offer3    Call Center   \n",
            "3      Corporate Auto  Corporate L3           Offer2         Branch   \n",
            "4       Personal Auto   Personal L2           Offer1         Branch   \n",
            "...               ...           ...              ...            ...   \n",
            "10905   Personal Auto   Personal L1           Offer3            Web   \n",
            "10906   Personal Auto   Personal L3           Offer2         Branch   \n",
            "10907  Corporate Auto  Corporate L3           Offer1            Web   \n",
            "10908   Personal Auto   Personal L1           Offer1         Branch   \n",
            "10909   Personal Auto   Personal L1           Offer4            Web   \n",
            "\n",
            "       Total Claim Amount  Vehicle Class  Vehicle Size  Vehicle Type  \\\n",
            "0              292.800000  Four-Door Car       Medsize           NaN   \n",
            "1              744.924331  Four-Door Car       Medsize           NaN   \n",
            "2              480.000000            SUV       Medsize             A   \n",
            "3              484.013411  Four-Door Car       Medsize             A   \n",
            "4              707.925645  Four-Door Car       Medsize           NaN   \n",
            "...                   ...            ...           ...           ...   \n",
            "10905         1214.400000     Luxury Car       Medsize             A   \n",
            "10906          273.018929  Four-Door Car       Medsize             A   \n",
            "10907          381.306996     Luxury SUV       Medsize           NaN   \n",
            "10908          618.288849            SUV       Medsize             A   \n",
            "10909         1021.719397            SUV       Medsize           NaN   \n",
            "\n",
            "            date month  \n",
            "0     2011-02-18     2  \n",
            "1     2011-01-18     1  \n",
            "2     2011-02-10     2  \n",
            "3     2011-01-11     1  \n",
            "4     2011-01-17     1  \n",
            "...          ...   ...  \n",
            "10905 2011-01-19     1  \n",
            "10906 2011-01-06     1  \n",
            "10907 2011-02-06     2  \n",
            "10908 2011-02-13     2  \n",
            "10909 2011-01-08     1  \n",
            "\n",
            "[10910 rows x 28 columns]\n"
          ]
        }
      ],
      "source": [
        "df[\"date\"] = pd.to_datetime(df[\"date\"])\n",
        "df[\"month\"] = df[\"date\"].dt.to_period('M').dt.month\n",
        "q1_data = df[df[\"date\"].dt.to_period('Q').dt.quarter == 1]\n",
        "print(q1_data)\n",
        "\n"
      ]
    },
    {
      "cell_type": "code",
      "execution_count": null,
      "id": "6a42e907",
      "metadata": {
        "id": "6a42e907"
      },
      "outputs": [],
      "source": []
    }
  ],
  "metadata": {
    "kernelspec": {
      "display_name": "Python 3 (ipykernel)",
      "language": "python",
      "name": "python3"
    },
    "language_info": {
      "codemirror_mode": {
        "name": "ipython",
        "version": 3
      },
      "file_extension": ".py",
      "mimetype": "text/x-python",
      "name": "python",
      "nbconvert_exporter": "python",
      "pygments_lexer": "ipython3",
      "version": "3.9.12"
    },
    "colab": {
      "provenance": [],
      "include_colab_link": true
    }
  },
  "nbformat": 4,
  "nbformat_minor": 5
}